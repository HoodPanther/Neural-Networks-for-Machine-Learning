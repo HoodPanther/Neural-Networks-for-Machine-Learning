{
 "cells": [
  {
   "cell_type": "markdown",
   "metadata": {},
   "source": [
    "# Assignment-1 : The perceptron learning algorithm."
   ]
  },
  {
   "cell_type": "code",
   "execution_count": 1,
   "metadata": {
    "collapsed": true
   },
   "outputs": [],
   "source": [
    "# load the dependancy\n",
    "\n",
    "import scipy.io as sci\n",
    "import numpy as np\n",
    "import matplotlib.pyplot as plt"
   ]
  },
  {
   "cell_type": "markdown",
   "metadata": {},
   "source": [
    "### About the datasets\n",
    "\n",
    "\n",
    "This should load 4 variables:\n",
    "\n",
    "* neg_examples_nobias - The matrix containing the examples belonging to class 0.\n",
    "* pos_examples_nobias - The matrix containing the examples belonging to class 1.\n",
    "* w_init - Some initial weight vector.\n",
    "* w_gen_feas - A generously feasible weight vector (empty if one doesn't exist)."
   ]
  },
  {
   "cell_type": "markdown",
   "metadata": {},
   "source": [
    "### Plot of the datasets"
   ]
  },
  {
   "cell_type": "code",
   "execution_count": 2,
   "metadata": {},
   "outputs": [
    {
     "data": {
      "image/png": "[encoded data removed]",
      "text/plain": [
       "<matplotlib.figure.Figure at 0x7f98d0f4e9d0>"
      ]
     },
     "metadata": {},
     "output_type": "display_data"
    }
   ],
   "source": [
    "plt.figure(figsize=(10,10))\n",
    "\n",
    "for i in range(1,5):\n",
    "    \n",
    "    var_name = \"dataset\" + str(i) + \".mat\"\n",
    "    title = \"dataset\" + str(i)\n",
    "    data = sci.loadmat(var_name)\n",
    "    \n",
    "    axis_no = int('22' + str(i))\n",
    "    \n",
    "    neg,pos = data['neg_examples_nobias'],data['pos_examples_nobias']\n",
    "    \n",
    "    plt.subplot(axis_no)\n",
    "    plt.scatter(neg[0:,:1],neg[:,1:],c='red')\n",
    "    plt.scatter(pos[0:,:1],pos[:,1:],c='blue')\n",
    "    plt.title(title)\n",
    "    \n",
    "plt.show()"
   ]
  },
  {
   "cell_type": "markdown",
   "metadata": {},
   "source": [
    "### Learns the weights of a perceptron and displays the results.\n",
    "\n",
    "* Learns the weights of a perceptron for a 2-dimensional dataset and plots\n",
    " the perceptron at each iteration where an iteration is defined as one\n",
    " full pass through the data. \n",
    "\n",
    "* If a generously feasible weight vector\n",
    " is provided then the visualization will also show the distance\n",
    " of the learned weight vectors to the generously feasible weight vector.\n"
   ]
  },
  {
   "cell_type": "code",
   "execution_count": 3,
   "metadata": {
    "collapsed": true
   },
   "outputs": [],
   "source": [
    "'''\n",
    " Required Inputs:\n",
    " \n",
    "   neg_examples_nobias - The num_neg_examples x 2 matrix for the examples with target 0.\n",
    "       num_neg_examples is the number of examples for the negative class.\n",
    "   pos_examples_nobias - The num_pos_examples x 2 matrix for the examples with target 1.\n",
    "       num_pos_examples is the number of examples for the positive class.\n",
    "   w_init - A 3-dimensional initial weight vector. The last element is the bias.\n",
    "   w_gen_feas - A generously feasible weight vector.\n",
    "   \n",
    " Returns:\n",
    "   w - The learned weight vector.\n",
    "'''\n",
    "\n",
    "def learn_perceptron(neg_examples_nobias,pos_examples_nobias,w_init,w_gen_feas):\n",
    "    # Bookkeeping\n",
    "    num_neg_examples = len(neg_examples_nobias)\n",
    "    num_pos_examples = len(pos_examples_nobias)\n",
    "    num_err_history = []\n",
    "    w_dist_history = []\n",
    "    \n",
    "    # Here we add a column of ones to the examples in order to allow us to learn bias parameters.\n",
    "    neg_examples = np.append(neg_examples_nobias,\n",
    "                             np.ones((num_neg_examples,1), dtype=float),\n",
    "                             axis=1)\n",
    "    pos_examples = np.append(pos_examples_nobias,\n",
    "                             np.ones((num_pos_examples,1), dtype=float),\n",
    "                             axis=1)\n",
    "    \n",
    "    #If weight vectors have not been provided, initialize them appropriately.\n",
    "    \n",
    "    if (np.size(w_init) == None):\n",
    "        w = np.random.rand(3,1)\n",
    "    else:\n",
    "        w = w_init\n",
    "    \n",
    "    if (np.size(w_gen_feas) == None):\n",
    "        w_gen_feas = []\n",
    "        \n",
    "    # Find the data points that the perceptron has incorrectly classified and record the number of errors it makes.\n",
    "    iter_ = 0\n",
    "    mistakes0, mistakes1 = eval_perceptron(neg_examples,pos_examples,w)\n",
    "    num_errs = len(mistakes0) + len(mistakes1)\n",
    "    num_err_history.append(num_errs)\n",
    "    print('Number of errors in iteration {0}: {1}\\n'.format(iter_,num_errs))\n",
    "    print('weights:', w.tolist())\n",
    "   \n",
    "    plot_perceptron(neg_examples, pos_examples, mistakes0, mistakes1, num_err_history, w, w_dist_history)\n",
    "    \n",
    "    \n",
    "    #If a generously feasible weight vector exists, record the distance to it from the initial weight vector.\n",
    "    if len(w_gen_feas) != 0 :\n",
    "        w_dist_history.append (np.linalg.norm(w - w_gen_feas))\n",
    "        \n",
    "    #Iterate until the perceptron has correctly classified all points.\n",
    "    \n",
    "    while (num_errs > 0):\n",
    "        \n",
    "        iter_ = iter_ + 1\n",
    "\n",
    "        #Update the weights of the perceptron.\n",
    "        w = update_weights(neg_examples,pos_examples,w)\n",
    "    \n",
    "\n",
    "        #If a generously feasible weight vector exists, record the distance to it from the current weight vector.\n",
    "        if (len(w_gen_feas) != 0):\n",
    "            w_dist_history.append(np.linalg.norm(w - w_gen_feas))\n",
    "    \n",
    "        #Find the data points that the perceptron has incorrectly classified and record the number of errors it makes.\n",
    "        [mistakes0, mistakes1] = eval_perceptron(neg_examples,pos_examples,w)\n",
    "        num_errs = len(mistakes0) + len(mistakes1)\n",
    "        num_err_history.append(num_errs)\n",
    "        \n",
    "        print('Number of errors in iteration {0}: {1}\\n'.format(iter_,num_errs))\n",
    "        print('weights:',w)\n",
    "    \n",
    "        plot_perceptron(neg_examples, pos_examples, mistakes0, mistakes1, num_err_history, w, w_dist_history)\n",
    "        \n",
    "        #input('<Press enter to continue...')\n",
    "        \n",
    "        \n",
    "    return w"
   ]
  },
  {
   "cell_type": "code",
   "execution_count": 4,
   "metadata": {
    "collapsed": true
   },
   "outputs": [],
   "source": [
    "\n",
    "def update_weights(neg_examples, pos_examples, w_current):\n",
    "    \n",
    "    \"\"\" \n",
    "        Updates the weights of the perceptron for incorrectly classified points using the perceptron\n",
    "        update algorithm. This function makes one sweep over the dataset.\n",
    "        \n",
    "        Args:\n",
    "            neg_examples - (The num_neg_examples x 3) matrix for the examples with target 0.\n",
    "                num_neg_examples is the number of examples for the negative class.\n",
    "            pos_examples- (The num_pos_examples x 3) matrix for the examples with target 1.\n",
    "                num_pos_examples is the number of examples for the positive class.\n",
    "            w_current - A 3-dimensional weight vector, the last element is the bias.\n",
    "        \n",
    "        Returns:\n",
    "            w - The weight vector after one pass through the dataset using the perceptron learning rule.\n",
    "    \"\"\"\n",
    "    w = w_current\n",
    "\n",
    "    for i in range(len(neg_examples)):\n",
    "        this_case = neg_examples[i]\n",
    "        x = this_case\n",
    "        activation = this_case.dot(w)\n",
    "        if (activation >= 0):\n",
    "            #print(\"YOUR CODE HERE\")\n",
    "             w += np.column_stack(x).T * (0.0 - activation)\n",
    "    for i in range(len(pos_examples)):\n",
    "        this_case = pos_examples[i]\n",
    "        x = this_case\n",
    "        activation = this_case.dot(w)\n",
    "        if (activation < 0):\n",
    "            #print(\"YOUR CODE HERE\")\n",
    "             w += np.column_stack(x).T * (1.0 - activation)\n",
    "    return w            "
   ]
  },
  {
   "cell_type": "code",
   "execution_count": 5,
   "metadata": {
    "collapsed": true
   },
   "outputs": [],
   "source": [
    "def eval_perceptron(neg_examples, pos_examples, w):\n",
    "    \"\"\"\n",
    "    Evaluates the perceptron using a given weight vector. Here, evaluation\n",
    "    refers to finding the data points that the perceptron incorrectly classifies.\n",
    "    \n",
    "    Inputs:\n",
    "        neg_examples - The (num_neg_examples x 3) matrix for the examples with target 0.\n",
    "            num_neg_examples is the number of examples for the negative class.\n",
    "        pos_examples- The (num_pos_examples x 3) matrix for the examples with target 1.\n",
    "            num_pos_examples is the number of examples for the positive class.\n",
    "        w - A 3-dimensional weight vector, the last element is the bias.\n",
    " \n",
    "    Returns:\n",
    "       mistakes0 - A vector containing the indices of the negative examples that have been\n",
    "                   incorrectly classified as positive.\n",
    "       mistakes0 - A vector containing the indices of the positive examples that have been\n",
    "                   incorrectly classified as negative.\n",
    "    \n",
    "    \"\"\"\n",
    "    mistakes0 = []\n",
    "    mistakes1 = []\n",
    "    for i in range(len(neg_examples)):\n",
    "        x = neg_examples[i]\n",
    "        activation = x.dot(w)\n",
    "        if (activation >= 0):\n",
    "            mistakes0.append(i)\n",
    "    \n",
    "    for i in range(len(pos_examples)):\n",
    "        x = pos_examples[i]\n",
    "        activation = x.dot(w)\n",
    "        if (activation < 0):\n",
    "            mistakes1.append(i)\n",
    "    return [mistakes0, mistakes1]            "
   ]
  },
  {
   "cell_type": "code",
   "execution_count": 6,
   "metadata": {
    "collapsed": true
   },
   "outputs": [],
   "source": [
    "def plot_perceptron(neg_examples, pos_examples, mistakes0, mistakes1,\n",
    "                    num_err_history, w, w_dist_history):\n",
    "    \"\"\"The top-left plot shows the dataset and the classification boundary given by\n",
    "    the weights of the perceptron. The negative examples are shown as circles\n",
    "    while the positive examples are shown as squares. If an example is colored\n",
    "    green then it means that the example has been correctly classified by the\n",
    "    provided weights. If it is colored red then it has been incorrectly classified.\n",
    "    The top-right plot shows the number of mistakes the perceptron algorithm has\n",
    "    made in each iteration so far.\n",
    "    The bottom-left plot shows the distance to some generously feasible weight\n",
    "    vector if one has been provided (note, there can be an infinite number of these).\n",
    "    Points that the classifier has made a mistake on are shown in red,\n",
    "    while points that are correctly classified are shown in green.\n",
    "    The goal is for all of the points to be green (if it is possible to do so).\n",
    "    Args:\n",
    "        neg_examples    : The num_neg_examples x 3 matrix for the examples with target 0.\n",
    "                          num_neg_examples is the number of examples for the negative class.\n",
    "        pos_examples    : The num_pos_examples x 3 matrix for the examples with target 1.\n",
    "                          num_pos_examples is the number of examples for the positive class.\n",
    "        mistakes0       : A vector containing the indices of the datapoints from class 0 incorrectly\n",
    "                          classified by the perceptron. This is a subset of neg_examples.\n",
    "        mistakes1       : A vector containing the indices of the datapoints from class 1 incorrectly\n",
    "                          classified by the perceptron. This is a subset of pos_examples.\n",
    "        num_err_history : A vector containing the number of mistakes for each\n",
    "                          iteration of learning so far.\n",
    "        w               : A 3-dimensional vector corresponding to the current weights of the\n",
    "                          perceptron. The last element is the bias.\n",
    "        w_dist_history  : A vector containing the L2-distance to a generously\n",
    "                          feasible weight vector for each iteration of learning so far.\n",
    "                          Empty if one has not been provided.\n",
    "    \"\"\"\n",
    "    f = plt.figure(1)\n",
    "\n",
    "    neg_correct_ind = np.setdiff1d(range(len(neg_examples)), mistakes0)\n",
    "    pos_correct_ind = np.setdiff1d(range(len(pos_examples)), mistakes1)\n",
    "    assert all(m_idx not in set(neg_correct_ind) for m_idx in mistakes0) and \\\n",
    "        all(m_idx not in set(pos_correct_ind) for m_idx in mistakes1)\n",
    "\n",
    "    plt.subplot(2,2,1)\n",
    "    \n",
    "    if np.size(neg_examples):\n",
    "        plt.plot(neg_examples[neg_correct_ind][:, 0], neg_examples[neg_correct_ind][:, 1], 'og', markersize=10)\n",
    "    if np.size(pos_examples):\n",
    "        plt.plot(pos_examples[pos_correct_ind][:, 0], pos_examples[pos_correct_ind][:, 1], 'sg', markersize=10)\n",
    "\n",
    "    if len(mistakes0):\n",
    "        plt.plot(neg_examples[mistakes0][:, 0], neg_examples[mistakes0][:, 1], 'or', markersize=10)\n",
    "    if len(mistakes1):\n",
    "        plt.plot(pos_examples[mistakes1][:, 0], pos_examples[mistakes1][:, 1], 'sr', markersize=10)\n",
    "\n",
    "    plt.title('Perceptron Classifier')\n",
    "    # In order to plot the decision line, we just need to get two points.\n",
    "    plt.plot([-5, 5], [(-w[-1] + 5 * w[0]) / w[1], (-w[-1] - 5 * w[0]) / w[1]], 'k')\n",
    "    plt.xlim([-1,4])\n",
    "    plt.ylim([-2,2])\n",
    "    \n",
    "\n",
    "    plt.subplot(2,2,2)\n",
    "    plt.plot(range(len(num_err_history)), num_err_history)\n",
    "    plt.xlim([-1, max(15, len(num_err_history))])\n",
    "    plt.ylim([0, len(neg_examples) + len(pos_examples) + 1])\n",
    "    plt.title('Number of errors')\n",
    "    plt.xlabel('Iteration')\n",
    "    plt.ylabel('Number of errors')\n",
    "\n",
    "    plt.subplot(2,2,3)\n",
    "    plt.plot(range(len(w_dist_history)), w_dist_history)\n",
    "    plt.xlim([-1, max(15, len(num_err_history))])\n",
    "    plt.ylim([0, 15])\n",
    "    plt.title('Distance')\n",
    "    plt.xlabel('Iteration')\n",
    "    plt.ylabel('Distance')\n",
    "    plt.show()"
   ]
  },
  {
   "cell_type": "code",
   "execution_count": 7,
   "metadata": {},
   "outputs": [
    {
     "name": "stdout",
     "output_type": "stream",
     "text": [
      "Number of errors in iteration 0: 5\n",
      "\n",
      "('weights:', [[-0.6217014737809046], [0.7609152728514132], [0.7718720489184812]])\n"
     ]
    },
    {
     "data": {
      "image/png": "[encoded data removed]",
      "text/plain": [
       "<matplotlib.figure.Figure at 0x7f98ce4569d0>"
      ]
     },
     "metadata": {},
     "output_type": "display_data"
    },
    {
     "name": "stdout",
     "output_type": "stream",
     "text": [
      "Number of errors in iteration 1: 1\n",
      "\n",
      "('weights:', array([[ 2.54386899],\n",
      "       [ 0.3215408 ],\n",
      "       [ 0.71916545]]))\n"
     ]
    },
    {
     "data": {
      "image/png": "[encoded data removed]",
      "text/plain": [
       "<matplotlib.figure.Figure at 0x7f98ce15d6d0>"
      ]
     },
     "metadata": {},
     "output_type": "display_data"
    },
    {
     "name": "stdout",
     "output_type": "stream",
     "text": [
      "('hello', 1)\n"
     ]
    }
   ],
   "source": [
    "data = sci.loadmat('dataset1.mat')    \n",
    "neg_examples_nobias,pos_examples_nobias,w_init,w_gen_feas = data['neg_examples_nobias'],data['pos_examples_nobias'],data['w_init'],data['w_gen_feas']\n",
    "w = learn_perceptron(neg_examples_nobias,pos_examples_nobias,w_init,w_gen_feas)"
   ]
  },
  {
   "cell_type": "code",
   "execution_count": null,
   "metadata": {},
   "outputs": [],
   "source": []
  },
  {
   "cell_type": "code",
   "execution_count": null,
   "metadata": {
    "collapsed": true
   },
   "outputs": [],
   "source": []
  }
 ],
 "metadata": {
  "kernelspec": {
   "display_name": "Python [conda env:Python-2]",
   "language": "python",
   "name": "conda-env-Python-2-py"
  },
  "language_info": {
   "codemirror_mode": {
    "name": "ipython",
    "version": 2
   },
   "file_extension": ".py",
   "mimetype": "text/x-python",
   "name": "python",
   "nbconvert_exporter": "python",
   "pygments_lexer": "ipython2",
   "version": "2.7.13"
  }
 },
 "nbformat": 4,
 "nbformat_minor": 2
}
