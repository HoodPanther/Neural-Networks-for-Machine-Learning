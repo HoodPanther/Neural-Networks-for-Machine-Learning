{
 "cells": [
  {
   "cell_type": "markdown",
   "metadata": {},
   "source": [
    "# Assignment-1 : The perceptron learning algorithm."
   ]
  },
  {
   "cell_type": "code",
   "execution_count": 3,
   "metadata": {
    "collapsed": true
   },
   "outputs": [],
   "source": [
    "# load the dependancy\n",
    "\n",
    "import scipy.io as sci\n",
    "import numpy as np\n",
    "import matplotlib.pyplot as plt"
   ]
  },
  {
   "cell_type": "markdown",
   "metadata": {},
   "source": [
    "### About the datasets\n",
    "\n",
    "\n",
    "This should load 4 variables:\n",
    "\n",
    "* neg_examples_nobias - The matrix containing the examples belonging to class 0.\n",
    "* pos_examples_nobias - The matrix containing the examples belonging to class 1.\n",
    "* w_init - Some initial weight vector.\n",
    "* w_gen_feas - A generously feasible weight vector (empty if one doesn't exist)."
   ]
  },
  {
   "cell_type": "markdown",
   "metadata": {},
   "source": [
    "### Plot of the datasets"
   ]
  },
  {
   "cell_type": "code",
   "execution_count": 4,
   "metadata": {},
   "outputs": [
    {
     "data": {
      "image/png": "[encoded data removed]",
      "text/plain": [
       "<matplotlib.figure.Figure at 0x7f262fe81d30>"
      ]
     },
     "metadata": {},
     "output_type": "display_data"
    }
   ],
   "source": [
    "plt.figure(figsize=(10,10))\n",
    "\n",
    "for i in range(1,5):\n",
    "    \n",
    "    var_name = \"dataset\" + str(i) + \".mat\"\n",
    "    title = \"dataset\" + str(i)\n",
    "    data = sci.loadmat(var_name)\n",
    "    \n",
    "    axis_no = int('22' + str(i))\n",
    "    \n",
    "    neg,pos = data['neg_examples_nobias'],data['pos_examples_nobias']\n",
    "    \n",
    "    plt.subplot(axis_no)\n",
    "    plt.scatter(neg[0:,:1],neg[:,1:],c='red')\n",
    "    plt.scatter(pos[0:,:1],pos[:,1:],c='blue')\n",
    "    plt.title(title)\n",
    "    \n",
    "plt.show()"
   ]
  },
  {
   "cell_type": "markdown",
   "metadata": {},
   "source": [
    "### Learns the weights of a perceptron and displays the results.\n",
    "\n",
    "* Learns the weights of a perceptron for a 2-dimensional dataset and plots\n",
    " the perceptron at each iteration where an iteration is defined as one\n",
    " full pass through the data. \n",
    "\n",
    "* If a generously feasible weight vector\n",
    " is provided then the visualization will also show the distance\n",
    " of the learned weight vectors to the generously feasible weight vector.\n"
   ]
  },
  {
   "cell_type": "code",
   "execution_count": 5,
   "metadata": {},
   "outputs": [],
   "source": [
    "'''\n",
    " Required Inputs:\n",
    " \n",
    "   neg_examples_nobias - The num_neg_examples x 2 matrix for the examples with target 0.\n",
    "       num_neg_examples is the number of examples for the negative class.\n",
    "   pos_examples_nobias - The num_pos_examples x 2 matrix for the examples with target 1.\n",
    "       num_pos_examples is the number of examples for the positive class.\n",
    "   w_init - A 3-dimensional initial weight vector. The last element is the bias.\n",
    "   w_gen_feas - A generously feasible weight vector.\n",
    "   \n",
    " Returns:\n",
    "   w - The learned weight vector.\n",
    "'''\n",
    "\n",
    "def learn_perceptron(neg_examples_nobias,pos_examples_nobias,w_init,w_gen_feas):\n",
    "    # Bookkeeping\n",
    "    num_neg_examples = len(neg_examples_nobias)\n",
    "    num_pos_examples = len(pos_examples_nobias)\n",
    "    num_err_history = []\n",
    "    w_dist_history = []\n",
    "    \n",
    "    # Here we add a column of ones to the examples in order to allow us to learn bias parameters.\n",
    "    neg_examples = np.append(neg_examples_nobias,np.ones(num_neg_examples,1),axis = 1)\n",
    "    pos_examples = np.append(pos_examples_nobias,np.ones(num_pos_examples,1),axis = 1)\n",
    "    \n",
    "    #If weight vectors have not been provided, initialize them appropriately.\n",
    "    \n",
    "    if (np.size(w_init)):\n",
    "        w = np.random.rand(3,1)\n",
    "    else:\n",
    "        w = w_init\n",
    "    \n",
    "    if (np.size(w_gen_feas)):\n",
    "        w_gen_feas = []\n",
    "        \n",
    "    # Find the data points that the perceptron has incorrectly classified and record the number of errors it makes.\n",
    "    iter_ = 0\n",
    "    mistakes0, mistakes1 = eval_perceptron(neg_examples,pos_examples,w)\n",
    "    num_errs = len(mistakes0) + len(mistakes1)\n",
    "    num_err_history.append(num_errs)\n",
    "    print('Number of errors in iteration {0}:\\t{1}\\n'.format(iter_,num_errs))\n",
    "    print('weights:\\t', w)\n",
    "    \n",
    "    plot_perceptron(neg_examples, pos_examples, mistakes0, mistakes1, num_err_history, w, w_dist_history)\n",
    "    \n",
    "    \n",
    "    #If a generously feasible weight vector exists, record the distance to it from the initial weight vector.\n",
    "    if len(w_gen_feas) != 0 :\n",
    "        w_dist_history.append (np.linalg.norm(w - w_gen_feas))\n",
    "        \n",
    "    #Iterate until the perceptron has correctly classified all points.\n",
    "    while (num_errs > 0):\n",
    "        iter_ = iter_ + 1\n",
    "\n",
    "        #Update the weights of the perceptron.\n",
    "        w = update_weights(neg_examples,pos_examples,w)\n",
    "    \n",
    "\n",
    "        #If a generously feasible weight vector exists, record the distance to it from the current weight vector.\n",
    "        if (len(w_gen_feas) != 0):\n",
    "            w_dist_history.append(np.linalg.norm(w - w_gen_feas))\n",
    "    \n",
    "        #Find the data points that the perceptron has incorrectly classified and record the number of errors it makes.\n",
    "        [mistakes0, mistakes1] = eval_perceptron(neg_examples,pos_examples,w)\n",
    "        num_errs = len(mistakes0) + len(mistakes1)\n",
    "        num_err_history.append(num_errs)\n",
    "        \n",
    "        print('Number of errors in iteration {0}:\\t{1}\\n'.format(iter_,num_errs))\n",
    "        print('weights:',w)\n",
    "    \n",
    "        plot_perceptron(neg_examples, pos_examples, mistakes0, mistakes1, num_err_history, w, w_dist_history)\n",
    "        \n",
    "        # input('<Press enter to continue...',)\n",
    "        \n",
    "        return w"
   ]
  },
  {
   "cell_type": "code",
   "execution_count": 7,
   "metadata": {},
   "outputs": [
    {
     "ename": "IndentationError",
     "evalue": "expected an indented block (<ipython-input-7-5c55297d0b89>, line 27)",
     "output_type": "error",
     "traceback": [
      "\u001b[0;36m  File \u001b[0;32m\"<ipython-input-7-5c55297d0b89>\"\u001b[0;36m, line \u001b[0;32m27\u001b[0m\n\u001b[0;31m    for i in pos_examples:\u001b[0m\n\u001b[0m    ^\u001b[0m\n\u001b[0;31mIndentationError\u001b[0m\u001b[0;31m:\u001b[0m expected an indented block\n"
     ]
    }
   ],
   "source": [
    "\n",
    "def update_weights(neg_examples, pos_examples, w_current):\n",
    "    \n",
    "    \"\"\" Updates the weights of the perceptron for incorrectly classified points using the perceptron\n",
    "        update algorithm. This function makes one sweep over the dataset.\n",
    "        \n",
    "        Args:\n",
    "            neg_examples - The num_neg_examples x 3 matrix for the examples with target 0.\n",
    "                num_neg_examples is the number of examples for the negative class.\n",
    "            pos_examples- The num_pos_examples x 3 matrix for the examples with target 1.\n",
    "                num_pos_examples is the number of examples for the positive class.\n",
    "            w_current - A 3-dimensional weight vector, the last element is the bias.\n",
    "        \n",
    "        Returns:\n",
    "            w - The weight vector after one pass through the dataset using the perceptron learning rule.\n",
    "    \"\"\"\n",
    "    w = w_current\n",
    "\n",
    "    for i in neg_examples:\n",
    "        this_case = neg_examples[i]\n",
    "        x = this_case\n",
    "        #Hint\n",
    "        activation = this_case.dot(w)\n",
    "        if (activation >= 0):\n",
    "            #YOUR CODE HERE\n",
    "    \n",
    "    for i in pos_examples:\n",
    "        this_case = pos_examples[i]\n",
    "        x = this_case\n",
    "        activation = this_case.dot(w)\n",
    "        if (activation < 0):\n",
    "        #YOUR CODE HERE\n",
    "    "
   ]
  },
  {
   "cell_type": "code",
   "execution_count": null,
   "metadata": {
    "collapsed": true
   },
   "outputs": [],
   "source": []
  },
  {
   "cell_type": "code",
   "execution_count": null,
   "metadata": {
    "collapsed": true
   },
   "outputs": [],
   "source": []
  },
  {
   "cell_type": "code",
   "execution_count": null,
   "metadata": {
    "collapsed": true
   },
   "outputs": [],
   "source": []
  }
 ],
 "metadata": {
  "kernelspec": {
   "display_name": "Python [conda env:Python-3]",
   "language": "python",
   "name": "conda-env-Python-3-py"
  },
  "language_info": {
   "codemirror_mode": {
    "name": "ipython",
    "version": 3
   },
   "file_extension": ".py",
   "mimetype": "text/x-python",
   "name": "python",
   "nbconvert_exporter": "python",
   "pygments_lexer": "ipython3",
   "version": "3.5.4"
  }
 },
 "nbformat": 4,
 "nbformat_minor": 2
}
